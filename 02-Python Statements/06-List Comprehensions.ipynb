{
 "cells": [
  {
   "cell_type": "markdown",
   "metadata": {
    "collapsed": true
   },
   "source": [
    "# List Comprehensions\n",
    "\n",
    "In addition to sequence operations and list methods, Python includes a more advanced operation called a list comprehension.\n",
    "\n",
    "List comprehensions allow us to build out lists using a different notation. You can think of it as essentially a one line <code>for</code> loop built inside of brackets. For a simple example:\n",
    "## Example 1"
   ]
  },
  {
   "cell_type": "code",
   "execution_count": 1,
   "metadata": {},
   "outputs": [],
   "source": [
    "# Grab every letter in string\n",
    "lst = [x for x in 'word']"
   ]
  },
  {
   "cell_type": "code",
   "execution_count": 2,
   "metadata": {},
   "outputs": [
    {
     "data": {
      "text/plain": [
       "['w', 'o', 'r', 'd']"
      ]
     },
     "execution_count": 2,
     "metadata": {},
     "output_type": "execute_result"
    }
   ],
   "source": [
    "# Check\n",
    "lst"
   ]
  },
  {
   "cell_type": "markdown",
   "metadata": {},
   "source": [
    "This is the basic idea of a list comprehension. If you're familiar with mathematical notation this format should feel familiar for example: x^2 : x in { 0,1,2...10 } \n",
    "\n",
    "Let's see a few more examples of list comprehensions in Python:\n",
    "## Example 2"
   ]
  },
  {
   "cell_type": "code",
   "execution_count": 3,
   "metadata": {},
   "outputs": [],
   "source": [
    "# Square numbers in range and turn into list\n",
    "lst = [x**2 for x in range(0,11)]"
   ]
  },
  {
   "cell_type": "code",
   "execution_count": 4,
   "metadata": {},
   "outputs": [
    {
     "data": {
      "text/plain": [
       "[0, 1, 4, 9, 16, 25, 36, 49, 64, 81, 100]"
      ]
     },
     "execution_count": 4,
     "metadata": {},
     "output_type": "execute_result"
    }
   ],
   "source": [
    "lst"
   ]
  },
  {
   "cell_type": "markdown",
   "metadata": {},
   "source": [
    "## Example 3\n",
    "Let's see how to add in <code>if</code> statements:"
   ]
  },
  {
   "cell_type": "code",
   "execution_count": 5,
   "metadata": {},
   "outputs": [],
   "source": [
    "# Check for even numbers in a range\n",
    "lst = [x for x in range(11) if x % 2 == 0]"
   ]
  },
  {
   "cell_type": "code",
   "execution_count": 6,
   "metadata": {},
   "outputs": [
    {
     "data": {
      "text/plain": [
       "[0, 2, 4, 6, 8, 10]"
      ]
     },
     "execution_count": 6,
     "metadata": {},
     "output_type": "execute_result"
    }
   ],
   "source": [
    "lst"
   ]
  },
  {
   "cell_type": "markdown",
   "metadata": {},
   "source": [
    "## Example 4\n",
    "Can also do more complicated arithmetic:"
   ]
  },
  {
   "cell_type": "code",
   "execution_count": 7,
   "metadata": {},
   "outputs": [
    {
     "data": {
      "text/plain": [
       "[32.0, 50.0, 68.18, 94.1]"
      ]
     },
     "execution_count": 7,
     "metadata": {},
     "output_type": "execute_result"
    }
   ],
   "source": [
    "# Convert Celsius to Fahrenheit\n",
    "celsius = [0,10,20.1,34.5]\n",
    "\n",
    "fahrenheit = [((9/5)*temp + 32) for temp in celsius ]\n",
    "\n",
    "fahrenheit"
   ]
  },
  {
   "cell_type": "markdown",
   "metadata": {},
   "source": [
    "## Example 5\n",
    "We can also perform nested list comprehensions, for example:"
   ]
  },
  {
   "cell_type": "code",
   "execution_count": 8,
   "metadata": {},
   "outputs": [
    {
     "data": {
      "text/plain": [
       "[0, 1, 16, 81, 256, 625, 1296, 2401, 4096, 6561, 10000]"
      ]
     },
     "execution_count": 8,
     "metadata": {},
     "output_type": "execute_result"
    }
   ],
   "source": [
    "lst = [ x**2 for x in [x**2 for x in range(11)]]\n",
    "lst"
   ]
  },
  {
   "cell_type": "code",
   "execution_count": 10,
   "metadata": {},
   "outputs": [
    {
     "data": {
      "text/plain": [
       "[1,\n",
       " 1,\n",
       " 1,\n",
       " 1,\n",
       " 1,\n",
       " 1,\n",
       " 1,\n",
       " 1,\n",
       " 1,\n",
       " 1,\n",
       " 1,\n",
       " 0,\n",
       " 1,\n",
       " 2,\n",
       " 3,\n",
       " 4,\n",
       " 5,\n",
       " 6,\n",
       " 7,\n",
       " 8,\n",
       " 9,\n",
       " 10,\n",
       " 0,\n",
       " 1,\n",
       " 16,\n",
       " 81,\n",
       " 256,\n",
       " 625,\n",
       " 1296,\n",
       " 2401,\n",
       " 4096,\n",
       " 6561,\n",
       " 10000,\n",
       " 0,\n",
       " 1,\n",
       " 512,\n",
       " 19683,\n",
       " 262144,\n",
       " 1953125,\n",
       " 10077696,\n",
       " 40353607,\n",
       " 134217728,\n",
       " 387420489,\n",
       " 1000000000,\n",
       " 0,\n",
       " 1,\n",
       " 65536,\n",
       " 43046721,\n",
       " 4294967296,\n",
       " 152587890625,\n",
       " 2821109907456,\n",
       " 33232930569601,\n",
       " 281474976710656,\n",
       " 1853020188851841,\n",
       " 10000000000000000,\n",
       " 0,\n",
       " 1,\n",
       " 33554432,\n",
       " 847288609443,\n",
       " 1125899906842624,\n",
       " 298023223876953125,\n",
       " 28430288029929701376,\n",
       " 1341068619663964900807,\n",
       " 37778931862957161709568,\n",
       " 717897987691852588770249,\n",
       " 10000000000000000000000000,\n",
       " 0,\n",
       " 1,\n",
       " 68719476736,\n",
       " 150094635296999121,\n",
       " 4722366482869645213696,\n",
       " 14551915228366851806640625,\n",
       " 10314424798490535546171949056,\n",
       " 2651730845859653471779023381601,\n",
       " 324518553658426726783156020576256,\n",
       " 22528399544939174411840147874772641,\n",
       " 1000000000000000000000000000000000000,\n",
       " 0,\n",
       " 1,\n",
       " 562949953421312,\n",
       " 239299329230617529590083,\n",
       " 316912650057057350374175801344,\n",
       " 17763568394002504646778106689453125,\n",
       " 134713546244127343440523266742756048896,\n",
       " 256923577521058878088611477224235621321607,\n",
       " 178405961588244985132285746181186892047843328,\n",
       " 57264168970223481226273458862846808078011946889,\n",
       " 10000000000000000000000000000000000000000000000000,\n",
       " 0,\n",
       " 1,\n",
       " 18446744073709551616,\n",
       " 3433683820292512484657849089281,\n",
       " 340282366920938463463374607431768211456,\n",
       " 542101086242752217003726400434970855712890625,\n",
       " 63340286662973277706162286946811886609896461828096,\n",
       " 1219760487635835700138573862562971820755615294131238401,\n",
       " 6277101735386680763835789423207666416102355444464034512896,\n",
       " 11790184577738583171520872861412518665678211592275841109096961,\n",
       " 10000000000000000000000000000000000000000000000000000000000000000,\n",
       " 0,\n",
       " 1,\n",
       " 2417851639229258349412352,\n",
       " 443426488243037769948249630619149892803,\n",
       " 5846006549323611672814739330865132078623730171904,\n",
       " 413590306276513837435704346034981426782906055450439453125,\n",
       " 1072139461476102327188594863736626789369714638009610458844102656,\n",
       " 283753509180010707824461062763116716606126555757084586223347181136007,\n",
       " 14134776518227074636666380005943348126619871175004951664972849610340958208,\n",
       " 196627050475552913618075908526912116283103450944214766927315415537966391196809,\n",
       " 1000000000000000000000000000000000000000000000000000000000000000000000000000000000,\n",
       " 0,\n",
       " 1,\n",
       " 1267650600228229401496703205376,\n",
       " 515377520732011331036461129765621272702107522001,\n",
       " 1606938044258990275541962092341162602522202993782792835301376,\n",
       " 7888609052210118054117285652827862296732064351090230047702789306640625,\n",
       " 653318623500070906096690267158057820537143710472954871543071966369497141477376,\n",
       " 3234476509624757991344647769100216810857203198904625400933895331391691459636928060001,\n",
       " 2037035976334486086268445688409378161051468393665936250636140449354381299763336706183397376,\n",
       " 265613988875874769338781322035779626829233452653394495974574961739092490901302182994384699044001,\n",
       " 10000000000000000000000000000000000000000000000000000000000000000000000000000000000000000000000000000]"
      ]
     },
     "execution_count": 10,
     "metadata": {},
     "output_type": "execute_result"
    }
   ],
   "source": [
    "lst = [for x in range(11)]\n",
    "lst"
   ]
  },
  {
   "cell_type": "markdown",
   "metadata": {},
   "source": [
    "Later on in the course we will learn about generator comprehensions. After this lecture you should feel comfortable reading and writing basic list comprehensions."
   ]
  }
 ],
 "metadata": {
  "kernelspec": {
   "display_name": "Python [default]",
   "language": "python",
   "name": "python3"
  },
  "language_info": {
   "codemirror_mode": {
    "name": "ipython",
    "version": 3
   },
   "file_extension": ".py",
   "mimetype": "text/x-python",
   "name": "python",
   "nbconvert_exporter": "python",
   "pygments_lexer": "ipython3",
   "version": "3.6.3"
  }
 },
 "nbformat": 4,
 "nbformat_minor": 1
}
